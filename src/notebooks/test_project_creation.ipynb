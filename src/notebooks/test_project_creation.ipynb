{
 "cells": [
  {
   "cell_type": "code",
   "execution_count": 1,
   "id": "57a05afa",
   "metadata": {},
   "outputs": [],
   "source": [
    "import requests"
   ]
  },
  {
   "cell_type": "code",
   "execution_count": 2,
   "id": "314b809e",
   "metadata": {},
   "outputs": [],
   "source": [
    "APP_URL = \"http://localhost:8000\""
   ]
  },
  {
   "cell_type": "code",
   "execution_count": 3,
   "id": "766267a9",
   "metadata": {},
   "outputs": [
    {
     "name": "stdout",
     "output_type": "stream",
     "text": [
      "200\n",
      "{\"message\":\"Welcome to the Analytics API\"}\n"
     ]
    }
   ],
   "source": [
    "response = requests.get(f\"{APP_URL}/\")\n",
    "print(response.status_code)\n",
    "print(response.text)"
   ]
  },
  {
   "cell_type": "code",
   "execution_count": 4,
   "id": "00e98e12",
   "metadata": {},
   "outputs": [],
   "source": [
    "# Doing post request to create a project\n",
    "project_data = {\n",
    "    \"name\": \"New Project\"\n",
    "}"
   ]
  },
  {
   "cell_type": "code",
   "execution_count": 6,
   "id": "349ab429",
   "metadata": {},
   "outputs": [
    {
     "name": "stdout",
     "output_type": "stream",
     "text": [
      "201\n",
      "{'name': 'New Project', 'secret_api_key': 'sec_f961ff9b769337a55bcbe7928dd0a2b2', 'public_api_key': 'pub_c854422946834fbe03348ad16ccc0be9', 'allowed_origins': None, 'id': '6c9bf657-97a2-4d56-b114-d0ff8dd767d1'}\n"
     ]
    }
   ],
   "source": [
    "response_post = requests.post(f\"{APP_URL}/projects/\", json=project_data)\n",
    "print(response_post.status_code)\n",
    "print(response_post.json())"
   ]
  },
  {
   "cell_type": "code",
   "execution_count": 3,
   "id": "ec4fdf7a",
   "metadata": {},
   "outputs": [],
   "source": [
    "# Testing get project details with secret key\n",
    "secret_key = 'sec_c1372718f249f205de42b7e13adcfd70'\n",
    "\n",
    "headers = {\n",
    "    \"Authorization\": f\"Bearer {secret_key}\" \n",
    "}"
   ]
  },
  {
   "cell_type": "code",
   "execution_count": 4,
   "id": "f4c94061",
   "metadata": {},
   "outputs": [
    {
     "name": "stdout",
     "output_type": "stream",
     "text": [
      "200\n",
      "{'allowed_origins': None, 'id': '6f46a2de-6cec-4e74-94ea-51a20d46dab4', 'public_api_key': 'pub_c7921b8394ec74e8c6c19c81703b9ef4', 'secret_api_key': 'sec_c1372718f249f205de42b7e13adcfd70', 'name': 'New Project'}\n"
     ]
    }
   ],
   "source": [
    "response_get_project_details = requests.get(f\"{APP_URL}/projects/\", headers=headers)\n",
    "print(response_get_project_details.status_code)\n",
    "print(response_get_project_details.json())"
   ]
  },
  {
   "cell_type": "code",
   "execution_count": 5,
   "id": "2c0b1845",
   "metadata": {},
   "outputs": [
    {
     "name": "stdout",
     "output_type": "stream",
     "text": [
      "200\n",
      "{'allowed_origins': None, 'id': '6f46a2de-6cec-4e74-94ea-51a20d46dab4', 'public_api_key': 'pub_55c118e8331f26a41457dace9f477067', 'secret_api_key': 'sec_c1372718f249f205de42b7e13adcfd70', 'name': 'New Project'}\n"
     ]
    }
   ],
   "source": [
    "# doing a request to generate the new public key\n",
    "response_new_key = requests.post(f\"{APP_URL}/projects/regenerate-key\", headers=headers)\n",
    "print(response_new_key.status_code)\n",
    "print(response_new_key.json())"
   ]
  },
  {
   "cell_type": "code",
   "execution_count": null,
   "id": "03d060e3",
   "metadata": {},
   "outputs": [],
   "source": []
  }
 ],
 "metadata": {
  "kernelspec": {
   "display_name": "venv",
   "language": "python",
   "name": "python3"
  },
  "language_info": {
   "codemirror_mode": {
    "name": "ipython",
    "version": 3
   },
   "file_extension": ".py",
   "mimetype": "text/x-python",
   "name": "python",
   "nbconvert_exporter": "python",
   "pygments_lexer": "ipython3",
   "version": "3.13.7"
  }
 },
 "nbformat": 4,
 "nbformat_minor": 5
}
