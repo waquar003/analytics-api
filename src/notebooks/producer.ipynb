{
 "cells": [
  {
   "cell_type": "code",
   "execution_count": 1,
   "id": "d6534c09",
   "metadata": {},
   "outputs": [
    {
     "name": "stdout",
     "output_type": "stream",
     "text": [
      "Requirement already satisfied: kafka_python in d:\\project\\analytics-api\\venv\\lib\\site-packages (2.2.15)\n",
      "Note: you may need to restart the kernel to use updated packages.\n"
     ]
    }
   ],
   "source": [
    "%pip install kafka_python"
   ]
  },
  {
   "cell_type": "code",
   "execution_count": 3,
   "id": "5eb0a47b",
   "metadata": {},
   "outputs": [],
   "source": [
    "from kafka import KafkaProducer\n",
    "import json \n",
    "import time"
   ]
  },
  {
   "cell_type": "code",
   "execution_count": 5,
   "id": "8874a5f2",
   "metadata": {},
   "outputs": [],
   "source": [
    "producer = KafkaProducer(\n",
    "    bootstrap_servers = ['localhost:9092'],\n",
    "    value_serializer = lambda v: json.dumps(v).encode('utf-8') \n",
    ")"
   ]
  },
  {
   "cell_type": "code",
   "execution_count": 6,
   "id": "f6df864e",
   "metadata": {},
   "outputs": [],
   "source": [
    "topic_name = 'first_topic'"
   ]
  },
  {
   "cell_type": "code",
   "execution_count": 7,
   "id": "f23f53c2",
   "metadata": {},
   "outputs": [
    {
     "name": "stdout",
     "output_type": "stream",
     "text": [
      "Sent {'id': 0, 'message': 'hi from producer. message number 0', 'timestamp': 1761805000.9940355}\n",
      "Sent {'id': 1, 'message': 'hi from producer. message number 1', 'timestamp': 1761805002.8802006}\n",
      "Sent {'id': 2, 'message': 'hi from producer. message number 2', 'timestamp': 1761805003.8811302}\n",
      "Sent {'id': 3, 'message': 'hi from producer. message number 3', 'timestamp': 1761805004.8838398}\n",
      "Sent {'id': 4, 'message': 'hi from producer. message number 4', 'timestamp': 1761805005.888581}\n",
      "Sent {'id': 5, 'message': 'hi from producer. message number 5', 'timestamp': 1761805006.911695}\n",
      "Sent {'id': 6, 'message': 'hi from producer. message number 6', 'timestamp': 1761805007.914296}\n",
      "Sent {'id': 7, 'message': 'hi from producer. message number 7', 'timestamp': 1761805008.9160225}\n",
      "Sent {'id': 8, 'message': 'hi from producer. message number 8', 'timestamp': 1761805009.9184284}\n",
      "Sent {'id': 9, 'message': 'hi from producer. message number 9', 'timestamp': 1761805010.9213388}\n",
      "All message sent successfully\n"
     ]
    }
   ],
   "source": [
    "for i in range(10):\n",
    "    message = {\n",
    "        'id': i,\n",
    "        'message': f'hi from producer. message number {i}',\n",
    "        'timestamp': time.time()\n",
    "    }\n",
    "    producer.send(topic=topic_name, value=message)\n",
    "    print(f'Sent {message}')\n",
    "    time.sleep(1)\n",
    "\n",
    "producer.flush()\n",
    "producer.close()\n",
    "\n",
    "print('All message sent successfully')"
   ]
  },
  {
   "cell_type": "code",
   "execution_count": null,
   "id": "c416fa69",
   "metadata": {},
   "outputs": [],
   "source": []
  }
 ],
 "metadata": {
  "kernelspec": {
   "display_name": "venv",
   "language": "python",
   "name": "python3"
  },
  "language_info": {
   "codemirror_mode": {
    "name": "ipython",
    "version": 3
   },
   "file_extension": ".py",
   "mimetype": "text/x-python",
   "name": "python",
   "nbconvert_exporter": "python",
   "pygments_lexer": "ipython3",
   "version": "3.13.7"
  }
 },
 "nbformat": 4,
 "nbformat_minor": 5
}
