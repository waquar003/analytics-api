{
 "cells": [
  {
   "cell_type": "code",
   "execution_count": 1,
   "id": "db03ac67",
   "metadata": {},
   "outputs": [],
   "source": [
    "import requests"
   ]
  },
  {
   "cell_type": "code",
   "execution_count": 2,
   "id": "8a9d3f3c",
   "metadata": {},
   "outputs": [],
   "source": [
    "APP_URL = \"http://localhost:8000\""
   ]
  },
  {
   "cell_type": "code",
   "execution_count": 7,
   "id": "37039978",
   "metadata": {},
   "outputs": [],
   "source": [
    "SECRET_KEY = 'sec_f961ff9b769337a55bcbe7928dd0a2b2'"
   ]
  },
  {
   "cell_type": "code",
   "execution_count": 18,
   "id": "db04125e",
   "metadata": {},
   "outputs": [],
   "source": [
    "# Event creation test\n",
    "response_create_event = requests.post(\n",
    "    f\"{APP_URL}/projects/events\",\n",
    "    json={\"event_name\": \"user_signup\"},\n",
    "    headers = {\n",
    "        \"Authorization\": f\"Bearer {SECRET_KEY}\"\n",
    "    }\n",
    ")"
   ]
  },
  {
   "cell_type": "code",
   "execution_count": 19,
   "id": "dddeaab3",
   "metadata": {},
   "outputs": [
    {
     "name": "stdout",
     "output_type": "stream",
     "text": [
      "Status Code: 201\n",
      "Response Body: {'event_name': 'user_signup', 'id': '0d886495-9d60-4f4b-b7d7-08e5290b2922', 'project_id': '6c9bf657-97a2-4d56-b114-d0ff8dd767d1', 'created_at': '2025-10-29T08:08:41.557200'}\n"
     ]
    }
   ],
   "source": [
    "print(\"Status Code:\", response_create_event.status_code)\n",
    "print(\"Response Body:\", response_create_event.json())"
   ]
  },
  {
   "cell_type": "code",
   "execution_count": 21,
   "id": "0922474c",
   "metadata": {},
   "outputs": [],
   "source": [
    "# Event creation test\n",
    "response_create_event = requests.post(\n",
    "    f\"{APP_URL}/projects/events\",\n",
    "    json={\"event_name\": \"user_signup\"},\n",
    "    headers = {\n",
    "        \"Authorization\": f\"Bearer {SECRET_KEY}\"\n",
    "    }\n",
    ")"
   ]
  },
  {
   "cell_type": "code",
   "execution_count": 22,
   "id": "a74e5ef6",
   "metadata": {},
   "outputs": [
    {
     "name": "stdout",
     "output_type": "stream",
     "text": [
      "Status Code: 409\n",
      "Response Body: {'detail': \"Event 'user_signup' is already registered for this project.\"}\n"
     ]
    }
   ],
   "source": [
    "print(\"Status Code:\", response_create_event.status_code)\n",
    "print(\"Response Body:\", response_create_event.json())"
   ]
  },
  {
   "cell_type": "code",
   "execution_count": null,
   "id": "1c6bec98",
   "metadata": {},
   "outputs": [],
   "source": []
  }
 ],
 "metadata": {
  "kernelspec": {
   "display_name": "venv",
   "language": "python",
   "name": "python3"
  },
  "language_info": {
   "codemirror_mode": {
    "name": "ipython",
    "version": 3
   },
   "file_extension": ".py",
   "mimetype": "text/x-python",
   "name": "python",
   "nbconvert_exporter": "python",
   "pygments_lexer": "ipython3",
   "version": "3.13.7"
  }
 },
 "nbformat": 4,
 "nbformat_minor": 5
}
